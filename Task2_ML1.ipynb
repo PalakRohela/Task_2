{
 "cells": [
  {
   "cell_type": "code",
   "execution_count": 18,
   "id": "ac845ac9",
   "metadata": {},
   "outputs": [],
   "source": [
    "import os\n",
    "import requests\n",
    "import re"
   ]
  },
  {
   "cell_type": "code",
   "execution_count": 19,
   "id": "d5bf5184",
   "metadata": {},
   "outputs": [
    {
     "name": "stdout",
     "output_type": "stream",
     "text": [
      "Requirement already satisfied: beautifulsoup4 in c:\\users\\palak\\anaconda3\\lib\\site-packages (4.11.1)Note: you may need to restart the kernel to use updated packages.\n",
      "Requirement already satisfied: soupsieve>1.2 in c:\\users\\palak\\anaconda3\\lib\\site-packages (from beautifulsoup4) (2.3.1)\n",
      "\n"
     ]
    }
   ],
   "source": [
    "pip install beautifulsoup4"
   ]
  },
  {
   "cell_type": "code",
   "execution_count": 20,
   "id": "c742bc7c",
   "metadata": {},
   "outputs": [],
   "source": [
    "from bs4 import BeautifulSoup"
   ]
  },
  {
   "cell_type": "code",
   "execution_count": 23,
   "id": "b3dfde62",
   "metadata": {},
   "outputs": [
    {
     "name": "stdout",
     "output_type": "stream",
     "text": [
      "Enter the URL of a Medium article: https://medium.com/python-in-plain-english/goodbye-pip-conda-a-better-choice-for-python-dependency-management-poetry-04f1b34e0073\n",
      "File saved in directory scraped_articles/goodbye-pip-conda-a-better-choice-for-python-dependency-management-poetry-04f1b34e0073.txt\n"
     ]
    }
   ],
   "source": [
    "import re\n",
    "import os\n",
    "import requests\n",
    "from bs4 import BeautifulSoup\n",
    "\n",
    "def get_page(url):\n",
    "    # Handling possible error - Check if the URL is a valid Medium article URL\n",
    "    if not re.match(r'https?://medium.com/', url):\n",
    "        print('Please enter a valid Medium article URL.')\n",
    "        return None\n",
    "    \n",
    "    try:\n",
    "        # Make an HTTP GET request to the URL\n",
    "        response = requests.get(url)\n",
    "        \n",
    "        # Check if the request was successful (status code 200)\n",
    "        if response.status_code == 200:\n",
    "            # Return the BeautifulSoup object of the article\n",
    "            return BeautifulSoup(response.text, 'html.parser')\n",
    "        else:\n",
    "            print(f\"Failed to fetch the article. Status code: {response.status_code}\")\n",
    "            return None\n",
    "    except requests.RequestException as e:\n",
    "        print(f\"An error occurred: {e}\")\n",
    "        return None\n",
    "\n",
    "def clean(text):\n",
    "    rep = {\"<br>\": \"\\n\", \"<br/>\": \"\\n\", \"<li>\": \"\\n\"}\n",
    "    rep = dict((re.escape(k), v) for k, v in rep)\n",
    "    pattern = re.compile(\"|\".join(rep.keys()))\n",
    "    text = pattern.sub(lambda m: rep[re.escape(m.group(0))], text)\n",
    "    text = re.sub('<(.*?)>', '', text)\n",
    "    return text\n",
    "\n",
    "def collect_text(soup, url):\n",
    "    text = f'url: {url}\\n\\n'\n",
    "    para_text = soup.find_all('p')\n",
    "    for para in para_text:\n",
    "        text += f\"{para.text}\\n\\n\"\n",
    "    return text\n",
    "\n",
    "def save_file(text, url):\n",
    "    if not os.path.exists('./scraped_articles'):\n",
    "        os.mkdir('./scraped_articles')\n",
    "    name = url.split(\"/\")[-1]\n",
    "    fname = f'scraped_articles/{name}.txt'\n",
    "    \n",
    "    # Write the file using the 'with' statement\n",
    "    with open(fname, 'w', encoding='utf-8') as file:\n",
    "        file.write(text)\n",
    "    \n",
    "    print(f'File saved in directory {fname}')\n",
    "\n",
    "if __name__ == '__main__':\n",
    "    url = input(\"Enter the URL of a Medium article: \")\n",
    "    soup = get_page(url)\n",
    "\n",
    "    if soup:\n",
    "        text = collect_text(soup, url)\n",
    "        save_file(text, url)\n",
    "    else:\n",
    "        print(\"Failed to fetch HTML source text.\")\n"
   ]
  },
  {
   "cell_type": "code",
   "execution_count": null,
   "id": "387dadb2",
   "metadata": {},
   "outputs": [],
   "source": []
  }
 ],
 "metadata": {
  "kernelspec": {
   "display_name": "Python 3 (ipykernel)",
   "language": "python",
   "name": "python3"
  },
  "language_info": {
   "codemirror_mode": {
    "name": "ipython",
    "version": 3
   },
   "file_extension": ".py",
   "mimetype": "text/x-python",
   "name": "python",
   "nbconvert_exporter": "python",
   "pygments_lexer": "ipython3",
   "version": "3.9.13"
  }
 },
 "nbformat": 4,
 "nbformat_minor": 5
}
